{
 "cells": [
  {
   "cell_type": "code",
   "execution_count": 1,
   "metadata": {},
   "outputs": [],
   "source": [
    "import socket"
   ]
  },
  {
   "cell_type": "code",
   "execution_count": 2,
   "metadata": {},
   "outputs": [],
   "source": [
    "sock = socket.socket(socket.AF_INET, socket.SOCK_DGRAM)\n",
    "ip = \"192.168.0.101\"\n",
    "port = 4321\n",
    "sock.bind((ip, port))\n"
   ]
  },
  {
   "cell_type": "code",
   "execution_count": 3,
   "metadata": {},
   "outputs": [
    {
     "name": "stdout",
     "output_type": "stream",
     "text": [
      "\n",
      "192.168.0.101: aaa\n",
      "\n",
      "\t\t\t\t192.168.0.102: bbbbbbbb\n",
      "\n",
      "192.168.0.101: ccccc\n",
      "\n",
      "\t\t\t\t192.168.0.102: eeeeeeeee\n",
      "\n",
      "192.168.0.101: vvvvvvv\n"
     ]
    }
   ],
   "source": [
    "while True: \n",
    "    msg = input(\"\\n\" + ip + \": \" )\n",
    "    serverip = \"192.168.0.102\"\n",
    "    serverport = 1234\n",
    "    sock.sendto(msg.encode() , (serverip, serverport))\n",
    "    if msg == \"exit\":\n",
    "        break;\n",
    "    \n",
    "    data = sock.recvfrom(1024)\n",
    "    cmd = data[0].decode() \n",
    "    \n",
    "    if cmd == \"exit\":\n",
    "        break;\n",
    "    print(\"\\n\\t\\t\\t\\t\" + serverip + \": \" + cmd)\n"
   ]
  },
  {
   "cell_type": "code",
   "execution_count": null,
   "metadata": {},
   "outputs": [],
   "source": []
  },
  {
   "cell_type": "code",
   "execution_count": null,
   "metadata": {},
   "outputs": [],
   "source": []
  },
  {
   "cell_type": "code",
   "execution_count": null,
   "metadata": {},
   "outputs": [],
   "source": []
  },
  {
   "cell_type": "code",
   "execution_count": null,
   "metadata": {},
   "outputs": [],
   "source": []
  },
  {
   "cell_type": "code",
   "execution_count": null,
   "metadata": {},
   "outputs": [],
   "source": []
  },
  {
   "cell_type": "code",
   "execution_count": null,
   "metadata": {},
   "outputs": [],
   "source": []
  }
 ],
 "metadata": {
  "kernelspec": {
   "display_name": "Python 3",
   "language": "python",
   "name": "python3"
  },
  "language_info": {
   "codemirror_mode": {
    "name": "ipython",
    "version": 3
   },
   "file_extension": ".py",
   "mimetype": "text/x-python",
   "name": "python",
   "nbconvert_exporter": "python",
   "pygments_lexer": "ipython3",
   "version": "3.8.5"
  }
 },
 "nbformat": 4,
 "nbformat_minor": 4
}
